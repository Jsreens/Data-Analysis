{
 "cells": [
  {
   "cell_type": "markdown",
   "id": "6deec0a7",
   "metadata": {},
   "source": [
    "# INFO 3401 – Homework 5\n",
    "\n",
    "correlation between two variables."
   ]
  },
  {
   "cell_type": "markdown",
   "id": "e2f710df",
   "metadata": {},
   "source": [
    "### Step 1: find a dataset\n"
   ]
  },
  {
   "cell_type": "code",
   "execution_count": 1,
   "id": "cf7dda56",
   "metadata": {},
   "outputs": [
    {
     "data": {
      "text/html": [
       "<div>\n",
       "<style scoped>\n",
       "    .dataframe tbody tr th:only-of-type {\n",
       "        vertical-align: middle;\n",
       "    }\n",
       "\n",
       "    .dataframe tbody tr th {\n",
       "        vertical-align: top;\n",
       "    }\n",
       "\n",
       "    .dataframe thead th {\n",
       "        text-align: right;\n",
       "    }\n",
       "</style>\n",
       "<table border=\"1\" class=\"dataframe\">\n",
       "  <thead>\n",
       "    <tr style=\"text-align: right;\">\n",
       "      <th></th>\n",
       "      <th>Profit</th>\n",
       "      <th>Price in Millions</th>\n",
       "      <th>Square Meter</th>\n",
       "      <th>City</th>\n",
       "    </tr>\n",
       "  </thead>\n",
       "  <tbody>\n",
       "    <tr>\n",
       "      <th>0</th>\n",
       "      <td>119000.0</td>\n",
       "      <td>21.88</td>\n",
       "      <td>3938.0</td>\n",
       "      <td>Berlin</td>\n",
       "    </tr>\n",
       "    <tr>\n",
       "      <th>1</th>\n",
       "      <td>250000.0</td>\n",
       "      <td>27.95</td>\n",
       "      <td>3986.0</td>\n",
       "      <td>Munich</td>\n",
       "    </tr>\n",
       "    <tr>\n",
       "      <th>2</th>\n",
       "      <td>250000.0</td>\n",
       "      <td>16.09</td>\n",
       "      <td>2574.0</td>\n",
       "      <td>Cologne</td>\n",
       "    </tr>\n",
       "    <tr>\n",
       "      <th>3</th>\n",
       "      <td>145000.0</td>\n",
       "      <td>27.58</td>\n",
       "      <td>4155.0</td>\n",
       "      <td>Munich</td>\n",
       "    </tr>\n",
       "    <tr>\n",
       "      <th>4</th>\n",
       "      <td>110000.0</td>\n",
       "      <td>23.76</td>\n",
       "      <td>3795.0</td>\n",
       "      <td>Berlin</td>\n",
       "    </tr>\n",
       "    <tr>\n",
       "      <th>...</th>\n",
       "      <td>...</td>\n",
       "      <td>...</td>\n",
       "      <td>...</td>\n",
       "      <td>...</td>\n",
       "    </tr>\n",
       "    <tr>\n",
       "      <th>145</th>\n",
       "      <td>45000.0</td>\n",
       "      <td>10.50</td>\n",
       "      <td>1775.0</td>\n",
       "      <td>Cologne</td>\n",
       "    </tr>\n",
       "    <tr>\n",
       "      <th>146</th>\n",
       "      <td>250000.0</td>\n",
       "      <td>23.80</td>\n",
       "      <td>4058.0</td>\n",
       "      <td>Cologne</td>\n",
       "    </tr>\n",
       "    <tr>\n",
       "      <th>147</th>\n",
       "      <td>32000.0</td>\n",
       "      <td>12.86</td>\n",
       "      <td>1668.0</td>\n",
       "      <td>Berlin</td>\n",
       "    </tr>\n",
       "    <tr>\n",
       "      <th>148</th>\n",
       "      <td>35000.0</td>\n",
       "      <td>15.80</td>\n",
       "      <td>2281.0</td>\n",
       "      <td>Berlin</td>\n",
       "    </tr>\n",
       "    <tr>\n",
       "      <th>149</th>\n",
       "      <td>90000.0</td>\n",
       "      <td>17.09</td>\n",
       "      <td>2297.0</td>\n",
       "      <td>Berlin</td>\n",
       "    </tr>\n",
       "  </tbody>\n",
       "</table>\n",
       "<p>150 rows × 4 columns</p>\n",
       "</div>"
      ],
      "text/plain": [
       "       Profit  Price in Millions  Square Meter     City\n",
       "0    119000.0              21.88        3938.0   Berlin\n",
       "1    250000.0              27.95        3986.0   Munich\n",
       "2    250000.0              16.09        2574.0  Cologne\n",
       "3    145000.0              27.58        4155.0   Munich\n",
       "4    110000.0              23.76        3795.0   Berlin\n",
       "..        ...                ...           ...      ...\n",
       "145   45000.0              10.50        1775.0  Cologne\n",
       "146  250000.0              23.80        4058.0  Cologne\n",
       "147   32000.0              12.86        1668.0   Berlin\n",
       "148   35000.0              15.80        2281.0   Berlin\n",
       "149   90000.0              17.09        2297.0   Berlin\n",
       "\n",
       "[150 rows x 4 columns]"
      ]
     },
     "execution_count": 1,
     "metadata": {},
     "output_type": "execute_result"
    }
   ],
   "source": [
    "import pandas as pd\n",
    "import numpy as np\n",
    "# https://www.kaggle.com/sveneschlbeck/hotel-prices-beginner-dataset\n",
    "df = pd.read_csv(\"hotels.csv\")\n",
    "df "
   ]
  },
  {
   "cell_type": "markdown",
   "id": "2d2e3e40",
   "metadata": {},
   "source": [
    "### Step 2: group the data and select two fields"
   ]
  },
  {
   "cell_type": "code",
   "execution_count": 2,
   "id": "d497cefb",
   "metadata": {},
   "outputs": [
    {
     "data": {
      "text/html": [
       "<div>\n",
       "<style scoped>\n",
       "    .dataframe tbody tr th:only-of-type {\n",
       "        vertical-align: middle;\n",
       "    }\n",
       "\n",
       "    .dataframe tbody tr th {\n",
       "        vertical-align: top;\n",
       "    }\n",
       "\n",
       "    .dataframe thead th {\n",
       "        text-align: right;\n",
       "    }\n",
       "</style>\n",
       "<table border=\"1\" class=\"dataframe\">\n",
       "  <thead>\n",
       "    <tr style=\"text-align: right;\">\n",
       "      <th></th>\n",
       "      <th>Price in Millions</th>\n",
       "      <th>Square Meter</th>\n",
       "    </tr>\n",
       "  </thead>\n",
       "  <tbody>\n",
       "    <tr>\n",
       "      <th>0</th>\n",
       "      <td>21.88</td>\n",
       "      <td>3938.0</td>\n",
       "    </tr>\n",
       "    <tr>\n",
       "      <th>1</th>\n",
       "      <td>27.95</td>\n",
       "      <td>3986.0</td>\n",
       "    </tr>\n",
       "    <tr>\n",
       "      <th>2</th>\n",
       "      <td>16.09</td>\n",
       "      <td>2574.0</td>\n",
       "    </tr>\n",
       "    <tr>\n",
       "      <th>3</th>\n",
       "      <td>27.58</td>\n",
       "      <td>4155.0</td>\n",
       "    </tr>\n",
       "    <tr>\n",
       "      <th>4</th>\n",
       "      <td>23.76</td>\n",
       "      <td>3795.0</td>\n",
       "    </tr>\n",
       "  </tbody>\n",
       "</table>\n",
       "</div>"
      ],
      "text/plain": [
       "   Price in Millions  Square Meter\n",
       "0              21.88        3938.0\n",
       "1              27.95        3986.0\n",
       "2              16.09        2574.0\n",
       "3              27.58        4155.0\n",
       "4              23.76        3795.0"
      ]
     },
     "execution_count": 2,
     "metadata": {},
     "output_type": "execute_result"
    }
   ],
   "source": [
    "small_df = df[[\"Price in Millions\",\"Square Meter\"]] # fill this variable with your smaller dataframe\n",
    "small_df.head()"
   ]
  },
  {
   "cell_type": "code",
   "execution_count": 3,
   "id": "e6d39701",
   "metadata": {},
   "outputs": [
    {
     "data": {
      "text/html": [
       "<div>\n",
       "<style scoped>\n",
       "    .dataframe tbody tr th:only-of-type {\n",
       "        vertical-align: middle;\n",
       "    }\n",
       "\n",
       "    .dataframe tbody tr th {\n",
       "        vertical-align: top;\n",
       "    }\n",
       "\n",
       "    .dataframe thead th {\n",
       "        text-align: right;\n",
       "    }\n",
       "</style>\n",
       "<table border=\"1\" class=\"dataframe\">\n",
       "  <thead>\n",
       "    <tr style=\"text-align: right;\">\n",
       "      <th></th>\n",
       "      <th>Price in Millions</th>\n",
       "    </tr>\n",
       "    <tr>\n",
       "      <th>City</th>\n",
       "      <th></th>\n",
       "    </tr>\n",
       "  </thead>\n",
       "  <tbody>\n",
       "    <tr>\n",
       "      <th>Berlin</th>\n",
       "      <td>21.88</td>\n",
       "    </tr>\n",
       "    <tr>\n",
       "      <th>Cologne</th>\n",
       "      <td>16.09</td>\n",
       "    </tr>\n",
       "    <tr>\n",
       "      <th>Munich</th>\n",
       "      <td>27.95</td>\n",
       "    </tr>\n",
       "  </tbody>\n",
       "</table>\n",
       "</div>"
      ],
      "text/plain": [
       "         Price in Millions\n",
       "City                      \n",
       "Berlin               21.88\n",
       "Cologne              16.09\n",
       "Munich               27.95"
      ]
     },
     "execution_count": 3,
     "metadata": {},
     "output_type": "execute_result"
    }
   ],
   "source": [
    "location_df = df[[\"Price in Millions\",\"City\"]]\n",
    "location_df\n",
    "\n",
    "gk = location_df.groupby('City')\n",
    "gk.first()"
   ]
  },
  {
   "cell_type": "markdown",
   "id": "95914721",
   "metadata": {},
   "source": [
    "### Step 3: make a scatter plot showing the relationship between the variables\n",
    "\n",
    "Make a scatter plot showing the relationship between the two variables in your dataframe. As always, be sure to consider the aesthetics of your plot. Does the scale of the axis make sense? Does your plot have a title? Are the axes labeled?"
   ]
  },
  {
   "cell_type": "code",
   "execution_count": 4,
   "id": "520aaaae",
   "metadata": {},
   "outputs": [
    {
     "data": {
      "text/html": [
       "\n",
       "<div id=\"altair-viz-7115274c10934ba8a7f8ea77284b75d2\"></div>\n",
       "<script type=\"text/javascript\">\n",
       "  (function(spec, embedOpt){\n",
       "    let outputDiv = document.currentScript.previousElementSibling;\n",
       "    if (outputDiv.id !== \"altair-viz-7115274c10934ba8a7f8ea77284b75d2\") {\n",
       "      outputDiv = document.getElementById(\"altair-viz-7115274c10934ba8a7f8ea77284b75d2\");\n",
       "    }\n",
       "    const paths = {\n",
       "      \"vega\": \"https://cdn.jsdelivr.net/npm//vega@5?noext\",\n",
       "      \"vega-lib\": \"https://cdn.jsdelivr.net/npm//vega-lib?noext\",\n",
       "      \"vega-lite\": \"https://cdn.jsdelivr.net/npm//vega-lite@4.8.1?noext\",\n",
       "      \"vega-embed\": \"https://cdn.jsdelivr.net/npm//vega-embed@6?noext\",\n",
       "    };\n",
       "\n",
       "    function loadScript(lib) {\n",
       "      return new Promise(function(resolve, reject) {\n",
       "        var s = document.createElement('script');\n",
       "        s.src = paths[lib];\n",
       "        s.async = true;\n",
       "        s.onload = () => resolve(paths[lib]);\n",
       "        s.onerror = () => reject(`Error loading script: ${paths[lib]}`);\n",
       "        document.getElementsByTagName(\"head\")[0].appendChild(s);\n",
       "      });\n",
       "    }\n",
       "\n",
       "    function showError(err) {\n",
       "      outputDiv.innerHTML = `<div class=\"error\" style=\"color:red;\">${err}</div>`;\n",
       "      throw err;\n",
       "    }\n",
       "\n",
       "    function displayChart(vegaEmbed) {\n",
       "      vegaEmbed(outputDiv, spec, embedOpt)\n",
       "        .catch(err => showError(`Javascript Error: ${err.message}<br>This usually means there's a typo in your chart specification. See the javascript console for the full traceback.`));\n",
       "    }\n",
       "\n",
       "    if(typeof define === \"function\" && define.amd) {\n",
       "      requirejs.config({paths});\n",
       "      require([\"vega-embed\"], displayChart, err => showError(`Error loading script: ${err.message}`));\n",
       "    } else if (typeof vegaEmbed === \"function\") {\n",
       "      displayChart(vegaEmbed);\n",
       "    } else {\n",
       "      loadScript(\"vega\")\n",
       "        .then(() => loadScript(\"vega-lite\"))\n",
       "        .then(() => loadScript(\"vega-embed\"))\n",
       "        .catch(showError)\n",
       "        .then(() => displayChart(vegaEmbed));\n",
       "    }\n",
       "  })({\"config\": {\"view\": {\"continuousWidth\": 400, \"continuousHeight\": 300}}, \"data\": {\"name\": \"data-041d5bd3c9209cc73bbc717ad84cfba6\"}, \"mark\": {\"type\": \"circle\", \"size\": 60}, \"encoding\": {\"x\": {\"type\": \"quantitative\", \"field\": \"Price in Millions\"}, \"y\": {\"type\": \"quantitative\", \"field\": \"Square Meter\"}}, \"title\": \"Relationship between Hotel Price and Size\", \"$schema\": \"https://vega.github.io/schema/vega-lite/v4.8.1.json\", \"datasets\": {\"data-041d5bd3c9209cc73bbc717ad84cfba6\": [{\"Price in Millions\": 21.88, \"Square Meter\": 3938.0}, {\"Price in Millions\": 27.95, \"Square Meter\": 3986.0}, {\"Price in Millions\": 16.09, \"Square Meter\": 2574.0}, {\"Price in Millions\": 27.58, \"Square Meter\": 4155.0}, {\"Price in Millions\": 23.76, \"Square Meter\": 3795.0}, {\"Price in Millions\": 22.88, \"Square Meter\": 2773.0}, {\"Price in Millions\": 13.25, \"Square Meter\": 634.0}, {\"Price in Millions\": 8.94, \"Square Meter\": 82.0}, {\"Price in Millions\": 24.87, \"Square Meter\": 3706.0}, {\"Price in Millions\": 14.11, \"Square Meter\": 1692.0}, {\"Price in Millions\": 11.65, \"Square Meter\": 1989.0}, {\"Price in Millions\": 17.26, \"Square Meter\": 2616.0}, {\"Price in Millions\": 18.45, \"Square Meter\": 3358.0}, {\"Price in Millions\": 17.08, \"Square Meter\": 1941.0}, {\"Price in Millions\": 19.32, \"Square Meter\": 1831.0}, {\"Price in Millions\": 8.48, \"Square Meter\": 800.0}, {\"Price in Millions\": 14.16, \"Square Meter\": 2700.0}, {\"Price in Millions\": 13.84, \"Square Meter\": 1257.0}, {\"Price in Millions\": 19.59, \"Square Meter\": 2644.0}, {\"Price in Millions\": 18.64, \"Square Meter\": 2001.0}, {\"Price in Millions\": 8.0, \"Square Meter\": 1581.0}, {\"Price in Millions\": 7.84, \"Square Meter\": 82.0}, {\"Price in Millions\": 15.54, \"Square Meter\": 2412.0}, {\"Price in Millions\": 6.09, \"Square Meter\": 769.0}, {\"Price in Millions\": 22.4, \"Square Meter\": 3815.0}, {\"Price in Millions\": 23.44, \"Square Meter\": 3122.0}, {\"Price in Millions\": 17.75, \"Square Meter\": 1492.0}, {\"Price in Millions\": 6.73, \"Square Meter\": 525.0}, {\"Price in Millions\": 14.22, \"Square Meter\": 1217.0}, {\"Price in Millions\": 17.22, \"Square Meter\": 1497.0}, {\"Price in Millions\": 17.97, \"Square Meter\": 3101.0}, {\"Price in Millions\": 13.58, \"Square Meter\": 2644.0}, {\"Price in Millions\": 19.1, \"Square Meter\": 3631.0}, {\"Price in Millions\": 13.09, \"Square Meter\": 1461.0}, {\"Price in Millions\": 15.93, \"Square Meter\": 1492.0}, {\"Price in Millions\": 19.37, \"Square Meter\": 2408.0}, {\"Price in Millions\": 7.87, \"Square Meter\": 859.0}, {\"Price in Millions\": 9.76, \"Square Meter\": 703.0}, {\"Price in Millions\": 22.98, \"Square Meter\": 4908.0}, {\"Price in Millions\": 14.15, \"Square Meter\": 2545.0}, {\"Price in Millions\": 13.77, \"Square Meter\": 1847.0}, {\"Price in Millions\": 7.77, \"Square Meter\": 502.0}, {\"Price in Millions\": 18.12, \"Square Meter\": 3478.0}, {\"Price in Millions\": 9.88, \"Square Meter\": 756.0}, {\"Price in Millions\": 24.78, \"Square Meter\": 5099.0}, {\"Price in Millions\": 8.69, \"Square Meter\": 1215.0}, {\"Price in Millions\": 19.76, \"Square Meter\": 3107.0}, {\"Price in Millions\": 13.76, \"Square Meter\": 2375.0}, {\"Price in Millions\": 11.87, \"Square Meter\": 2101.0}, {\"Price in Millions\": 24.21, \"Square Meter\": 4832.0}, {\"Price in Millions\": 13.0, \"Square Meter\": 2458.0}, {\"Price in Millions\": 23.6, \"Square Meter\": 4561.0}, {\"Price in Millions\": 24.43, \"Square Meter\": 4044.0}, {\"Price in Millions\": 21.93, \"Square Meter\": 3896.0}, {\"Price in Millions\": 21.26, \"Square Meter\": 2630.0}, {\"Price in Millions\": 20.43, \"Square Meter\": 3249.0}, {\"Price in Millions\": 14.97, \"Square Meter\": 2409.0}, {\"Price in Millions\": 22.62, \"Square Meter\": 2618.0}, {\"Price in Millions\": 19.6, \"Square Meter\": 3366.0}, {\"Price in Millions\": 10.94, \"Square Meter\": 1625.0}, {\"Price in Millions\": 22.3, \"Square Meter\": 3149.0}, {\"Price in Millions\": 22.99, \"Square Meter\": 3944.0}, {\"Price in Millions\": 16.32, \"Square Meter\": 3162.0}, {\"Price in Millions\": 13.86, \"Square Meter\": 1993.0}, {\"Price in Millions\": 16.39, \"Square Meter\": 2583.0}, {\"Price in Millions\": 16.55, \"Square Meter\": 2301.0}, {\"Price in Millions\": 6.95, \"Square Meter\": 171.0}, {\"Price in Millions\": 20.64, \"Square Meter\": 3876.0}, {\"Price in Millions\": 12.1, \"Square Meter\": 304.0}, {\"Price in Millions\": 20.86, \"Square Meter\": 3849.0}, {\"Price in Millions\": 22.42, \"Square Meter\": 2795.0}, {\"Price in Millions\": 32.78, \"Square Meter\": 5702.0}, {\"Price in Millions\": 20.14, \"Square Meter\": 4082.0}, {\"Price in Millions\": 20.27, \"Square Meter\": 3910.0}, {\"Price in Millions\": 24.49, \"Square Meter\": 4565.0}, {\"Price in Millions\": 27.94, \"Square Meter\": 4436.0}, {\"Price in Millions\": 10.41, \"Square Meter\": 1355.0}, {\"Price in Millions\": 14.9, \"Square Meter\": 2220.0}, {\"Price in Millions\": 24.81, \"Square Meter\": 3674.0}, {\"Price in Millions\": 16.38, \"Square Meter\": 2847.0}, {\"Price in Millions\": 26.31, \"Square Meter\": 5201.0}, {\"Price in Millions\": 9.07, \"Square Meter\": 1002.0}, {\"Price in Millions\": 19.93, \"Square Meter\": 3306.0}, {\"Price in Millions\": 15.18, \"Square Meter\": 2952.0}, {\"Price in Millions\": 7.98, \"Square Meter\": 723.0}, {\"Price in Millions\": 12.08, \"Square Meter\": 760.0}, {\"Price in Millions\": 9.63, \"Square Meter\": 1241.0}, {\"Price in Millions\": 23.05, \"Square Meter\": 3168.0}, {\"Price in Millions\": 28.24, \"Square Meter\": 5741.0}, {\"Price in Millions\": 17.71, \"Square Meter\": 1873.0}, {\"Price in Millions\": 6.62, \"Square Meter\": 114.0}, {\"Price in Millions\": 21.03, \"Square Meter\": 3707.0}, {\"Price in Millions\": 17.13, \"Square Meter\": 3165.0}, {\"Price in Millions\": 16.15, \"Square Meter\": 1799.0}, {\"Price in Millions\": 11.9, \"Square Meter\": 647.0}, {\"Price in Millions\": 8.97, \"Square Meter\": 396.0}, {\"Price in Millions\": 7.75, \"Square Meter\": 1346.0}, {\"Price in Millions\": 30.14, \"Square Meter\": 5427.0}, {\"Price in Millions\": 17.67, \"Square Meter\": 3085.0}, {\"Price in Millions\": 13.98, \"Square Meter\": 1594.0}, {\"Price in Millions\": 19.13, \"Square Meter\": 3619.0}, {\"Price in Millions\": 16.51, \"Square Meter\": 1127.0}, {\"Price in Millions\": 18.09, \"Square Meter\": 2985.0}, {\"Price in Millions\": 20.95, \"Square Meter\": 2770.0}, {\"Price in Millions\": 9.25, \"Square Meter\": 242.0}, {\"Price in Millions\": 26.66, \"Square Meter\": 5519.0}, {\"Price in Millions\": 13.97, \"Square Meter\": 3062.0}, {\"Price in Millions\": 22.87, \"Square Meter\": 4681.0}, {\"Price in Millions\": 18.3, \"Square Meter\": 2501.0}, {\"Price in Millions\": 11.21, \"Square Meter\": 1690.0}, {\"Price in Millions\": 27.96, \"Square Meter\": 4494.0}, {\"Price in Millions\": 20.54, \"Square Meter\": 2671.0}, {\"Price in Millions\": 35.35, \"Square Meter\": 5549.0}, {\"Price in Millions\": 7.65, \"Square Meter\": 1275.0}, {\"Price in Millions\": 14.56, \"Square Meter\": 2218.0}, {\"Price in Millions\": 18.78, \"Square Meter\": 2186.0}, {\"Price in Millions\": 4.16, \"Square Meter\": 380.0}, {\"Price in Millions\": 16.04, \"Square Meter\": 1505.0}, {\"Price in Millions\": 27.27, \"Square Meter\": 4151.0}, {\"Price in Millions\": 13.09, \"Square Meter\": 1781.0}, {\"Price in Millions\": 31.79, \"Square Meter\": 5607.0}, {\"Price in Millions\": 28.49, \"Square Meter\": 5643.0}, {\"Price in Millions\": 21.27, \"Square Meter\": 3309.0}, {\"Price in Millions\": 17.86, \"Square Meter\": 3302.0}, {\"Price in Millions\": 17.35, \"Square Meter\": 3429.0}, {\"Price in Millions\": 15.44, \"Square Meter\": 2584.0}, {\"Price in Millions\": 16.94, \"Square Meter\": 3224.0}, {\"Price in Millions\": 6.3, \"Square Meter\": 788.0}, {\"Price in Millions\": 23.82, \"Square Meter\": 3708.0}, {\"Price in Millions\": 8.9, \"Square Meter\": 1489.0}, {\"Price in Millions\": 14.69, \"Square Meter\": 2244.0}, {\"Price in Millions\": 4.8, \"Square Meter\": 179.0}, {\"Price in Millions\": 13.21, \"Square Meter\": 2220.0}, {\"Price in Millions\": 19.87, \"Square Meter\": 3374.0}, {\"Price in Millions\": 12.98, \"Square Meter\": 1696.0}, {\"Price in Millions\": 12.73, \"Square Meter\": 2115.0}, {\"Price in Millions\": 19.6, \"Square Meter\": 3558.0}, {\"Price in Millions\": 7.91, \"Square Meter\": 1021.0}, {\"Price in Millions\": 24.9, \"Square Meter\": 4008.0}, {\"Price in Millions\": 5.65, \"Square Meter\": 267.0}, {\"Price in Millions\": 29.45, \"Square Meter\": 5256.0}, {\"Price in Millions\": 15.28, \"Square Meter\": 2337.0}, {\"Price in Millions\": 6.19, \"Square Meter\": 449.0}, {\"Price in Millions\": 23.86, \"Square Meter\": 4763.0}, {\"Price in Millions\": 21.4, \"Square Meter\": 3078.0}, {\"Price in Millions\": 10.5, \"Square Meter\": 1775.0}, {\"Price in Millions\": 23.8, \"Square Meter\": 4058.0}, {\"Price in Millions\": 12.86, \"Square Meter\": 1668.0}, {\"Price in Millions\": 15.8, \"Square Meter\": 2281.0}, {\"Price in Millions\": 17.09, \"Square Meter\": 2297.0}]}}, {\"mode\": \"vega-lite\"});\n",
       "</script>"
      ],
      "text/plain": [
       "alt.Chart(...)"
      ]
     },
     "execution_count": 4,
     "metadata": {},
     "output_type": "execute_result"
    }
   ],
   "source": [
    "import altair as alt\n",
    "\n",
    "\n",
    "plot = alt.Chart(small_df).mark_circle(size=60).encode(\n",
    "    alt.X('Price in Millions'),\n",
    "    y='Square Meter'\n",
    "    ).properties(\n",
    "    title = \"Relationship between Hotel Price and Size\",\n",
    ")\n",
    "\n",
    "\n",
    "plot"
   ]
  },
  {
   "cell_type": "markdown",
   "id": "10837da2",
   "metadata": {},
   "source": [
    "# Further Research / Aggregation "
   ]
  },
  {
   "cell_type": "code",
   "execution_count": 5,
   "id": "de5579a7",
   "metadata": {},
   "outputs": [
    {
     "data": {
      "text/html": [
       "\n",
       "<div id=\"altair-viz-236bc2d01fc843d299a840c3e47cefd8\"></div>\n",
       "<script type=\"text/javascript\">\n",
       "  (function(spec, embedOpt){\n",
       "    let outputDiv = document.currentScript.previousElementSibling;\n",
       "    if (outputDiv.id !== \"altair-viz-236bc2d01fc843d299a840c3e47cefd8\") {\n",
       "      outputDiv = document.getElementById(\"altair-viz-236bc2d01fc843d299a840c3e47cefd8\");\n",
       "    }\n",
       "    const paths = {\n",
       "      \"vega\": \"https://cdn.jsdelivr.net/npm//vega@5?noext\",\n",
       "      \"vega-lib\": \"https://cdn.jsdelivr.net/npm//vega-lib?noext\",\n",
       "      \"vega-lite\": \"https://cdn.jsdelivr.net/npm//vega-lite@4.8.1?noext\",\n",
       "      \"vega-embed\": \"https://cdn.jsdelivr.net/npm//vega-embed@6?noext\",\n",
       "    };\n",
       "\n",
       "    function loadScript(lib) {\n",
       "      return new Promise(function(resolve, reject) {\n",
       "        var s = document.createElement('script');\n",
       "        s.src = paths[lib];\n",
       "        s.async = true;\n",
       "        s.onload = () => resolve(paths[lib]);\n",
       "        s.onerror = () => reject(`Error loading script: ${paths[lib]}`);\n",
       "        document.getElementsByTagName(\"head\")[0].appendChild(s);\n",
       "      });\n",
       "    }\n",
       "\n",
       "    function showError(err) {\n",
       "      outputDiv.innerHTML = `<div class=\"error\" style=\"color:red;\">${err}</div>`;\n",
       "      throw err;\n",
       "    }\n",
       "\n",
       "    function displayChart(vegaEmbed) {\n",
       "      vegaEmbed(outputDiv, spec, embedOpt)\n",
       "        .catch(err => showError(`Javascript Error: ${err.message}<br>This usually means there's a typo in your chart specification. See the javascript console for the full traceback.`));\n",
       "    }\n",
       "\n",
       "    if(typeof define === \"function\" && define.amd) {\n",
       "      requirejs.config({paths});\n",
       "      require([\"vega-embed\"], displayChart, err => showError(`Error loading script: ${err.message}`));\n",
       "    } else if (typeof vegaEmbed === \"function\") {\n",
       "      displayChart(vegaEmbed);\n",
       "    } else {\n",
       "      loadScript(\"vega\")\n",
       "        .then(() => loadScript(\"vega-lite\"))\n",
       "        .then(() => loadScript(\"vega-embed\"))\n",
       "        .catch(showError)\n",
       "        .then(() => displayChart(vegaEmbed));\n",
       "    }\n",
       "  })({\"config\": {\"view\": {\"continuousWidth\": 400, \"continuousHeight\": 300}}, \"data\": {\"name\": \"data-0876fae07ed9b8046c222e87c4d1b9fd\"}, \"mark\": \"bar\", \"encoding\": {\"x\": {\"type\": \"nominal\", \"field\": \"City\"}, \"y\": {\"type\": \"quantitative\", \"field\": \"Price in Millions\"}}, \"title\": \"Relationship between Location and Price\", \"$schema\": \"https://vega.github.io/schema/vega-lite/v4.8.1.json\", \"datasets\": {\"data-0876fae07ed9b8046c222e87c4d1b9fd\": [{\"Price in Millions\": 21.88, \"City\": \"Berlin\"}, {\"Price in Millions\": 27.95, \"City\": \"Munich\"}, {\"Price in Millions\": 16.09, \"City\": \"Cologne\"}, {\"Price in Millions\": 27.58, \"City\": \"Munich\"}, {\"Price in Millions\": 23.76, \"City\": \"Berlin\"}, {\"Price in Millions\": 22.88, \"City\": \"Munich\"}, {\"Price in Millions\": 13.25, \"City\": \"Munich\"}, {\"Price in Millions\": 8.94, \"City\": \"Munich\"}, {\"Price in Millions\": 24.87, \"City\": \"Munich\"}, {\"Price in Millions\": 14.11, \"City\": \"Berlin\"}, {\"Price in Millions\": 11.65, \"City\": \"Cologne\"}, {\"Price in Millions\": 17.26, \"City\": \"Berlin\"}, {\"Price in Millions\": 18.45, \"City\": \"Cologne\"}, {\"Price in Millions\": 17.08, \"City\": \"Munich\"}, {\"Price in Millions\": 19.32, \"City\": \"Munich\"}, {\"Price in Millions\": 8.48, \"City\": \"Berlin\"}, {\"Price in Millions\": 14.16, \"City\": \"Cologne\"}, {\"Price in Millions\": 13.84, \"City\": \"Munich\"}, {\"Price in Millions\": 19.59, \"City\": \"Berlin\"}, {\"Price in Millions\": 18.64, \"City\": \"Munich\"}, {\"Price in Millions\": 8.0, \"City\": \"Cologne\"}, {\"Price in Millions\": 7.84, \"City\": \"Munich\"}, {\"Price in Millions\": 15.54, \"City\": \"Cologne\"}, {\"Price in Millions\": 6.09, \"City\": \"Cologne\"}, {\"Price in Millions\": 22.4, \"City\": \"Berlin\"}, {\"Price in Millions\": 23.44, \"City\": \"Munich\"}, {\"Price in Millions\": 17.75, \"City\": \"Munich\"}, {\"Price in Millions\": 6.73, \"City\": \"Cologne\"}, {\"Price in Millions\": 14.22, \"City\": \"Munich\"}, {\"Price in Millions\": 17.22, \"City\": \"Munich\"}, {\"Price in Millions\": 17.97, \"City\": \"Berlin\"}, {\"Price in Millions\": 13.58, \"City\": \"Cologne\"}, {\"Price in Millions\": 19.1, \"City\": \"Cologne\"}, {\"Price in Millions\": 13.09, \"City\": \"Berlin\"}, {\"Price in Millions\": 15.93, \"City\": \"Munich\"}, {\"Price in Millions\": 19.37, \"City\": \"Munich\"}, {\"Price in Millions\": 7.87, \"City\": \"Cologne\"}, {\"Price in Millions\": 9.76, \"City\": \"Berlin\"}, {\"Price in Millions\": 22.98, \"City\": \"Cologne\"}, {\"Price in Millions\": 14.15, \"City\": \"Cologne\"}, {\"Price in Millions\": 13.77, \"City\": \"Berlin\"}, {\"Price in Millions\": 7.77, \"City\": \"Berlin\"}, {\"Price in Millions\": 18.12, \"City\": \"Cologne\"}, {\"Price in Millions\": 9.88, \"City\": \"Berlin\"}, {\"Price in Millions\": 24.78, \"City\": \"Cologne\"}, {\"Price in Millions\": 8.69, \"City\": \"Cologne\"}, {\"Price in Millions\": 19.76, \"City\": \"Berlin\"}, {\"Price in Millions\": 13.76, \"City\": \"Cologne\"}, {\"Price in Millions\": 11.87, \"City\": \"Cologne\"}, {\"Price in Millions\": 24.21, \"City\": \"Cologne\"}, {\"Price in Millions\": 13.0, \"City\": \"Cologne\"}, {\"Price in Millions\": 23.6, \"City\": \"Berlin\"}, {\"Price in Millions\": 24.43, \"City\": \"Berlin\"}, {\"Price in Millions\": 21.93, \"City\": \"Berlin\"}, {\"Price in Millions\": 21.26, \"City\": \"Munich\"}, {\"Price in Millions\": 20.43, \"City\": \"Berlin\"}, {\"Price in Millions\": 14.97, \"City\": \"Berlin\"}, {\"Price in Millions\": 22.62, \"City\": \"Munich\"}, {\"Price in Millions\": 19.6, \"City\": \"Cologne\"}, {\"Price in Millions\": 10.94, \"City\": \"Cologne\"}, {\"Price in Millions\": 22.3, \"City\": \"Munich\"}, {\"Price in Millions\": 22.99, \"City\": \"Berlin\"}, {\"Price in Millions\": 16.32, \"City\": \"Berlin\"}, {\"Price in Millions\": 13.86, \"City\": \"Cologne\"}, {\"Price in Millions\": 16.39, \"City\": \"Cologne\"}, {\"Price in Millions\": 16.55, \"City\": \"Berlin\"}, {\"Price in Millions\": 6.95, \"City\": \"Berlin\"}, {\"Price in Millions\": 20.64, \"City\": \"Cologne\"}, {\"Price in Millions\": 12.1, \"City\": \"Munich\"}, {\"Price in Millions\": 20.86, \"City\": \"Cologne\"}, {\"Price in Millions\": 22.42, \"City\": \"Munich\"}, {\"Price in Millions\": 32.78, \"City\": \"Munich\"}, {\"Price in Millions\": 20.14, \"City\": \"Cologne\"}, {\"Price in Millions\": 20.27, \"City\": \"Cologne\"}, {\"Price in Millions\": 24.49, \"City\": \"Berlin\"}, {\"Price in Millions\": 27.94, \"City\": \"Munich\"}, {\"Price in Millions\": 10.41, \"City\": \"Cologne\"}, {\"Price in Millions\": 14.9, \"City\": \"Berlin\"}, {\"Price in Millions\": 24.81, \"City\": \"Munich\"}, {\"Price in Millions\": 16.38, \"City\": \"Cologne\"}, {\"Price in Millions\": 26.31, \"City\": \"Berlin\"}, {\"Price in Millions\": 9.07, \"City\": \"Berlin\"}, {\"Price in Millions\": 19.93, \"City\": \"Munich\"}, {\"Price in Millions\": 15.18, \"City\": \"Cologne\"}, {\"Price in Millions\": 7.98, \"City\": \"Berlin\"}, {\"Price in Millions\": 12.08, \"City\": \"Munich\"}, {\"Price in Millions\": 9.63, \"City\": \"Cologne\"}, {\"Price in Millions\": 23.05, \"City\": \"Munich\"}, {\"Price in Millions\": 28.24, \"City\": \"Cologne\"}, {\"Price in Millions\": 17.71, \"City\": \"Munich\"}, {\"Price in Millions\": 6.62, \"City\": \"Berlin\"}, {\"Price in Millions\": 21.03, \"City\": \"Berlin\"}, {\"Price in Millions\": 17.13, \"City\": \"Cologne\"}, {\"Price in Millions\": 16.15, \"City\": \"Munich\"}, {\"Price in Millions\": 11.9, \"City\": \"Munich\"}, {\"Price in Millions\": 8.97, \"City\": \"Berlin\"}, {\"Price in Millions\": 7.75, \"City\": \"Cologne\"}, {\"Price in Millions\": 30.14, \"City\": \"Munich\"}, {\"Price in Millions\": 17.67, \"City\": \"Cologne\"}, {\"Price in Millions\": 13.98, \"City\": \"Berlin\"}, {\"Price in Millions\": 19.13, \"City\": \"Cologne\"}, {\"Price in Millions\": 16.51, \"City\": \"Munich\"}, {\"Price in Millions\": 18.09, \"City\": \"Berlin\"}, {\"Price in Millions\": 20.95, \"City\": \"Munich\"}, {\"Price in Millions\": 9.25, \"City\": \"Berlin\"}, {\"Price in Millions\": 26.66, \"City\": \"Cologne\"}, {\"Price in Millions\": 13.97, \"City\": \"Cologne\"}, {\"Price in Millions\": 22.87, \"City\": \"Cologne\"}, {\"Price in Millions\": 18.3, \"City\": \"Munich\"}, {\"Price in Millions\": 11.21, \"City\": \"Berlin\"}, {\"Price in Millions\": 27.96, \"City\": \"Munich\"}, {\"Price in Millions\": 20.54, \"City\": \"Munich\"}, {\"Price in Millions\": 35.35, \"City\": \"Munich\"}, {\"Price in Millions\": 7.65, \"City\": \"Cologne\"}, {\"Price in Millions\": 14.56, \"City\": \"Cologne\"}, {\"Price in Millions\": 18.78, \"City\": \"Munich\"}, {\"Price in Millions\": 4.16, \"City\": \"Cologne\"}, {\"Price in Millions\": 16.04, \"City\": \"Munich\"}, {\"Price in Millions\": 27.27, \"City\": \"Munich\"}, {\"Price in Millions\": 13.09, \"City\": \"Berlin\"}, {\"Price in Millions\": 31.79, \"City\": \"Berlin\"}, {\"Price in Millions\": 28.49, \"City\": \"Cologne\"}, {\"Price in Millions\": 21.27, \"City\": \"Berlin\"}, {\"Price in Millions\": 17.86, \"City\": \"Berlin\"}, {\"Price in Millions\": 17.35, \"City\": \"Cologne\"}, {\"Price in Millions\": 15.44, \"City\": \"Cologne\"}, {\"Price in Millions\": 16.94, \"City\": \"Cologne\"}, {\"Price in Millions\": 6.3, \"City\": \"Cologne\"}, {\"Price in Millions\": 23.82, \"City\": \"Berlin\"}, {\"Price in Millions\": 8.9, \"City\": \"Cologne\"}, {\"Price in Millions\": 14.69, \"City\": \"Cologne\"}, {\"Price in Millions\": 4.8, \"City\": \"Cologne\"}, {\"Price in Millions\": 13.21, \"City\": \"Cologne\"}, {\"Price in Millions\": 19.87, \"City\": \"Berlin\"}, {\"Price in Millions\": 12.98, \"City\": \"Berlin\"}, {\"Price in Millions\": 12.73, \"City\": \"Cologne\"}, {\"Price in Millions\": 19.6, \"City\": \"Cologne\"}, {\"Price in Millions\": 7.91, \"City\": \"Cologne\"}, {\"Price in Millions\": 24.9, \"City\": \"Berlin\"}, {\"Price in Millions\": 5.65, \"City\": \"Cologne\"}, {\"Price in Millions\": 29.45, \"City\": \"Berlin\"}, {\"Price in Millions\": 15.28, \"City\": \"Cologne\"}, {\"Price in Millions\": 6.19, \"City\": \"Cologne\"}, {\"Price in Millions\": 23.86, \"City\": \"Cologne\"}, {\"Price in Millions\": 21.4, \"City\": \"Berlin\"}, {\"Price in Millions\": 10.5, \"City\": \"Cologne\"}, {\"Price in Millions\": 23.8, \"City\": \"Cologne\"}, {\"Price in Millions\": 12.86, \"City\": \"Berlin\"}, {\"Price in Millions\": 15.8, \"City\": \"Berlin\"}, {\"Price in Millions\": 17.09, \"City\": \"Berlin\"}]}}, {\"mode\": \"vega-lite\"});\n",
       "</script>"
      ],
      "text/plain": [
       "alt.Chart(...)"
      ]
     },
     "execution_count": 5,
     "metadata": {},
     "output_type": "execute_result"
    }
   ],
   "source": [
    "location = alt.Chart(location_df).mark_bar().encode(\n",
    "    alt.X('City'),\n",
    "    y='Price in Millions'\n",
    "    ).properties(\n",
    "    title = \"Relationship between Location and Price\",\n",
    ")\n",
    "\n",
    "\n",
    "location"
   ]
  },
  {
   "cell_type": "markdown",
   "id": "f44d8a0d",
   "metadata": {},
   "source": [
    "### Step 4: interpret your plot\n",
    "\n",
    "**Based off my plot, I can see that Hotel Size and Hotel Price are positively linearly correlated. I also wanted to look at the different locations to see how much location will influence the price of a hotel. Based off Graph 2, I can expect to see that Locations in \"Munich will tend to be more expensive than other locations. This indicates that Sq Ft is not directly correlated to Price.**"
   ]
  },
  {
   "cell_type": "markdown",
   "id": "76e891db",
   "metadata": {},
   "source": [
    "### Step 5: quantitatively compute correlation\n",
    "\n",
    "Eyeballing a plot is a good start, but it's good to also quantitatively compute the correlation between variables.\n",
    "Using the correlation function, compute the correlation between your two variables. Does your computed correlation match what you would expect from your plot? \n",
    "\n",
    "**Based off the graph above and my correlation coefficient, there is clearly a strong positive correlation between hotel size and price. Intuitively, this makes sense because usually the price of living goes up if there is more space provided to live with.** \n"
   ]
  },
  {
   "cell_type": "code",
   "execution_count": 6,
   "id": "36b25089",
   "metadata": {},
   "outputs": [],
   "source": [
    "def correlation(x, y):\n",
    "    '''\n",
    "    Input:\n",
    "        x, a list of values\n",
    "        y, a list of values\n",
    "    \n",
    "    Returns the Pearson correlation between x and y\n",
    "    '''\n",
    "    a = np.cov(x, y)\n",
    "    cov =  a[0][1]\n",
    "    sd1, sd2 = np.sqrt(a[0][0]), np.sqrt(a[1][1])\n",
    "    return cov/(sd1 * sd2)"
   ]
  },
  {
   "cell_type": "code",
   "execution_count": 7,
   "id": "0f2f19e5",
   "metadata": {},
   "outputs": [
    {
     "data": {
      "text/plain": [
       "0.9137277740084544"
      ]
     },
     "execution_count": 7,
     "metadata": {},
     "output_type": "execute_result"
    }
   ],
   "source": [
    "hotel_corr = correlation(small_df[\"Price in Millions\"],small_df[\"Square Meter\"])\n",
    "hotel_corr"
   ]
  },
  {
   "cell_type": "markdown",
   "id": "4df2b50e",
   "metadata": {},
   "source": [
    "### Step 6: Interpret correlation vs. causality\n"
   ]
  },
  {
   "cell_type": "markdown",
   "id": "d5e716c8",
   "metadata": {},
   "source": [
    "**Although we see a strong positive correlation, it does not mean that the two variables are directly affecting one another. For example, the highest price point on the graph is not the most expensive. This means that \"higher price\" does not imply there will be \"more space\". Conversely the lowest hotel price does not have the lowest size. Showing us the \"smallest space\" does not imply lowest price.** \n",
    "\n",
    "**With that said, I cannot think of another underlying variable that could cause such a strong positive correlation between these two factors. I think # of hotel occupants in a room are the driving factor for price, however this will also be correlated to size since more people will need more space. I think that there is a slight causal relationship between price and size, although this will not always hold true due to underlying variables such as location(some locations could just be more expensive), Quality of hotel room (Better view, beds, ect..) and access hotel amenities(Pool, Spa, Exercise facilities).**\n",
    "\n",
    "**Additionally, I learned that Location will also play a large role in the price difference for hotels and should be considered when determining what makes the price of a hotel go up.**"
   ]
  },
  {
   "cell_type": "code",
   "execution_count": null,
   "id": "aa7fb8f4",
   "metadata": {},
   "outputs": [],
   "source": []
  }
 ],
 "metadata": {
  "kernelspec": {
   "display_name": "Python 3 (ipykernel)",
   "language": "python",
   "name": "python3"
  },
  "language_info": {
   "codemirror_mode": {
    "name": "ipython",
    "version": 3
   },
   "file_extension": ".py",
   "mimetype": "text/x-python",
   "name": "python",
   "nbconvert_exporter": "python",
   "pygments_lexer": "ipython3",
   "version": "3.8.10"
  }
 },
 "nbformat": 4,
 "nbformat_minor": 5
}
