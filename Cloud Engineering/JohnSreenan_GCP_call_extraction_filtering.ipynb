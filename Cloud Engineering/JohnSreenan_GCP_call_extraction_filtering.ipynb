{
 "cells": [
  {
   "cell_type": "code",
   "execution_count": 17,
   "id": "c60db225",
   "metadata": {},
   "outputs": [],
   "source": [
    "# ! pip install SpeechRecognition\n",
    "# ! pip install pydub"
   ]
  },
  {
   "cell_type": "markdown",
   "id": "9cf8b8e8",
   "metadata": {},
   "source": [
    "# John Sreenan\n",
    "## Rocket Laywer Cloud Engineer intern - spr'23"
   ]
  },
  {
   "cell_type": "markdown",
   "id": "0ed9acba",
   "metadata": {},
   "source": [
    "# Google Cloud Speech to Text Recognition\n",
    "## recognize_google()\n",
    "https://cloud.google.com/speech-to-text/docs/reference/rest/v1/speech/recognize"
   ]
  },
  {
   "cell_type": "code",
   "execution_count": 29,
   "id": "59023ea9",
   "metadata": {},
   "outputs": [],
   "source": [
    "# Import the SpeechRecognition  library\n",
    "import speech_recognition as sr\n",
    "# Create an instance of Recognizer\n",
    "recognizer = sr.Recognizer()\n",
    "# Set the energy threshold\n",
    "recognizer.energy_threshold = 300"
   ]
  },
  {
   "cell_type": "code",
   "execution_count": 31,
   "id": "73b216a8",
   "metadata": {},
   "outputs": [],
   "source": [
    "# Import audio \n",
    "customerCall = sr.AudioFile(\"audio_file.wav\")\n",
    "# Convert the AudioFile to AudioData\n",
    "with customerCall as source:\n",
    "    cleaned_customer_call = recognizer.record(source)# Recognize the AudioData\n",
    "sample_text = recognizer.recognize_google(cleaned_customer_call)\n"
   ]
  },
  {
   "cell_type": "code",
   "execution_count": 4,
   "id": "1eeddd33",
   "metadata": {},
   "outputs": [
    {
     "data": {
      "text/plain": [
       "speech_recognition.AudioData"
      ]
     },
     "execution_count": 4,
     "metadata": {},
     "output_type": "execute_result"
    }
   ],
   "source": [
    "# Check the type\n",
    "type(cleaned_customer_call)\n"
   ]
  },
  {
   "cell_type": "code",
   "execution_count": 5,
   "id": "0634b6e0",
   "metadata": {},
   "outputs": [
    {
     "data": {
      "text/plain": [
       "'hello welcome to Acme Studio support lawn mower name is Daniel how can I best help you hey Daniel this is John Audrey'"
      ]
     },
     "execution_count": 5,
     "metadata": {},
     "output_type": "execute_result"
    }
   ],
   "source": [
    "# Transcribe clean support call\n",
    "recognizer.recognize_google(audio_data=cleaned_customer_call)\n"
   ]
  },
  {
   "cell_type": "code",
   "execution_count": 6,
   "id": "26fcbe2e",
   "metadata": {},
   "outputs": [
    {
     "data": {
      "text/plain": [
       "'hello welcome to Acme Studio support lawn mower name is Daniel how can I best help you hey Daniel this is John Audrey'"
      ]
     },
     "execution_count": 6,
     "metadata": {},
     "output_type": "execute_result"
    }
   ],
   "source": [
    "# Leave duration and offset as default\n",
    "with customerCall as source:    \n",
    "    cleaned_customer_call_ = recognizer.record(source,duration=None,offset=None)\n",
    "recognizer.recognize_google(cleaned_customer_call_)\n"
   ]
  },
  {
   "cell_type": "code",
   "execution_count": 7,
   "id": "6fe60acc",
   "metadata": {},
   "outputs": [
    {
     "data": {
      "text/plain": [
       "'hello well'"
      ]
     },
     "execution_count": 7,
     "metadata": {},
     "output_type": "execute_result"
    }
   ],
   "source": [
    "# Get first 2-seconds of clean support call\n",
    "with customerCall as source:    \n",
    "    cleaned_customer_call_delay = recognizer.record(source,duration=2)\n",
    "recognizer.recognize_google(cleaned_customer_call_delay)\n",
    "    "
   ]
  },
  {
   "cell_type": "markdown",
   "id": "379ea6c2",
   "metadata": {},
   "source": [
    "# PyDub\n",
    "## Deeper Dive into audio file."
   ]
  },
  {
   "cell_type": "code",
   "execution_count": 8,
   "id": "93d59114",
   "metadata": {},
   "outputs": [
    {
     "name": "stderr",
     "output_type": "stream",
     "text": [
      "C:\\Users\\jmsre\\anacondav3\\envs\\DS\\lib\\site-packages\\pydub\\utils.py:170: RuntimeWarning: Couldn't find ffmpeg or avconv - defaulting to ffmpeg, but may not work\n",
      "  warn(\"Couldn't find ffmpeg or avconv - defaulting to ffmpeg, but may not work\", RuntimeWarning)\n"
     ]
    }
   ],
   "source": [
    "# Import play function\n",
    "from pydub.playback import play\n",
    "# Import PyDub main class\n",
    "from pydub import AudioSegment"
   ]
  },
  {
   "cell_type": "code",
   "execution_count": 9,
   "id": "25f774fd",
   "metadata": {},
   "outputs": [],
   "source": [
    "wav_file = AudioSegment.from_file(file=\"audio_file.wav\", format=\"wav\")\n",
    "# Format parameter only for readability\n",
    "wav_file = AudioSegment.from_file(file=\"audio_file.wav\")"
   ]
  },
  {
   "cell_type": "code",
   "execution_count": 10,
   "id": "7da9d8e8",
   "metadata": {},
   "outputs": [],
   "source": [
    "# play(wav_file)"
   ]
  },
  {
   "cell_type": "code",
   "execution_count": 12,
   "id": "0d8f6d57",
   "metadata": {},
   "outputs": [
    {
     "data": {
      "text/plain": [
       "(1, 1)"
      ]
     },
     "execution_count": 12,
     "metadata": {},
     "output_type": "execute_result"
    }
   ],
   "source": [
    "speakers = AudioSegment.from_file(file=\"audio_file.wav\")# Check number of channels\n",
    "wav_file.channels, speakers.channels"
   ]
  },
  {
   "cell_type": "code",
   "execution_count": 13,
   "id": "165d0b01",
   "metadata": {},
   "outputs": [
    {
     "data": {
      "text/plain": [
       "32000"
      ]
     },
     "execution_count": 13,
     "metadata": {},
     "output_type": "execute_result"
    }
   ],
   "source": [
    "wav_file.frame_rate"
   ]
  },
  {
   "cell_type": "code",
   "execution_count": 14,
   "id": "1a94d4ff",
   "metadata": {},
   "outputs": [
    {
     "data": {
      "text/plain": [
       "2"
      ]
     },
     "execution_count": 14,
     "metadata": {},
     "output_type": "execute_result"
    }
   ],
   "source": [
    "# Find the number of bytes per sample\n",
    "wav_file.sample_width"
   ]
  },
  {
   "cell_type": "code",
   "execution_count": 15,
   "id": "3cb8e9d9",
   "metadata": {},
   "outputs": [
    {
     "data": {
      "text/plain": [
       "27460"
      ]
     },
     "execution_count": 15,
     "metadata": {},
     "output_type": "execute_result"
    }
   ],
   "source": [
    "# Find the max amplitude\n",
    "wav_file.max"
   ]
  },
  {
   "cell_type": "code",
   "execution_count": 16,
   "id": "745fdd58",
   "metadata": {},
   "outputs": [
    {
     "data": {
      "text/plain": [
       "54888"
      ]
     },
     "execution_count": 16,
     "metadata": {},
     "output_type": "execute_result"
    }
   ],
   "source": [
    "# Duration of audio file in milliseconds\n",
    "len(wav_file)\n"
   ]
  },
  {
   "cell_type": "code",
   "execution_count": null,
   "id": "9b53b8bd",
   "metadata": {},
   "outputs": [],
   "source": []
  },
  {
   "cell_type": "markdown",
   "id": "51ca539c",
   "metadata": {},
   "source": [
    "# Privacy Filter"
   ]
  },
  {
   "cell_type": "markdown",
   "id": "e1032821",
   "metadata": {},
   "source": [
    "## How would you filter out sensitive Customer Information from a GCP speech to text query?\n",
    "\n",
    "### Goals: \n",
    "    Replace numbers with <NUMBER>\n",
    "    \n",
    "    Replace email addresses with <EMAIL>\n",
    "    \n",
    "    Replace postal codes with <POSTALCODE>\n",
    "    \n",
    "    Replace first and last names with <NAME>\n"
   ]
  },
  {
   "cell_type": "code",
   "execution_count": 84,
   "id": "a7bcdd35",
   "metadata": {},
   "outputs": [],
   "source": [
    "text = \"I am 23 years old, my name is John Sreenan and my email is jmsreenan16@gmail.com. I live in Boulder Colorado 80302\""
   ]
  },
  {
   "cell_type": "markdown",
   "id": "59c58dcf",
   "metadata": {},
   "source": [
    "## Remove **numbers**, **email addresses**, and **postal codes**"
   ]
  },
  {
   "cell_type": "code",
   "execution_count": 79,
   "id": "a8604c43",
   "metadata": {},
   "outputs": [],
   "source": [
    "def remove_num(text):\n",
    "    return re.sub(r'\\w*\\d\\w*', '<NUMBER>', text).strip()\n",
    "\n",
    "def remove_email(text):\n",
    "    return re.sub(\"(([\\w-]+(?:\\.[\\w-]+)*)@((?:[\\w-]+\\.)*\\w[\\w-]{0,66})\\.\" \\\n",
    "                  \"([a-z]{2,6}(?:\\.[a-z]{2})?))(?![^<]*>)\", \"<EMAIL>\", text)\n",
    "def remove_postal(text):\n",
    "    return re.sub(\"[0-9]{4}[ ]?[A-Z]{2}([ ,.:;])\", \"<POSTALCODE>\\\\1\", text)"
   ]
  },
  {
   "cell_type": "code",
   "execution_count": 83,
   "id": "6e5fbb35",
   "metadata": {},
   "outputs": [
    {
     "name": "stdout",
     "output_type": "stream",
     "text": [
      "hello welcome to Acme Studio support lawn mower name is Daniel how can I best help you hey Daniel this is John Audrey\n"
     ]
    }
   ],
   "source": []
  },
  {
   "cell_type": "code",
   "execution_count": null,
   "id": "1365d16c",
   "metadata": {},
   "outputs": [],
   "source": [
    "text = remove_num(text)\n",
    "text = remove_email(text)\n",
    "text = remove_postal(text)\n",
    "new_text = text\n",
    "print(new_text)"
   ]
  },
  {
   "cell_type": "markdown",
   "id": "cc2beacb",
   "metadata": {},
   "source": [
    "### Remove **first and last names**\n"
   ]
  },
  {
   "cell_type": "markdown",
   "id": "5a0cd331",
   "metadata": {},
   "source": [
    "Since names can be a little more tricky and I can't rely on Regex, I will describe how I would create this filter.\n",
    "\n",
    "\n",
    "[FlashText](https://github.com/vi3k6i5/flashtext) is a module that can be used to replace keywords in a sentence, based on the flashtext algorithm. This takes advantage of a keyword processor and contains keyword name information, including the most common names. according to other users on their github it works 28x more efficiently than a regex comparison. \n",
    "\n",
    "To implement this algorithm I would creat an initializer function to add more name related datafiles to improve the name keyword search, and use lamba to apply the subsitutions. \n"
   ]
  },
  {
   "cell_type": "code",
   "execution_count": null,
   "id": "983ff29f",
   "metadata": {},
   "outputs": [],
   "source": []
  },
  {
   "cell_type": "code",
   "execution_count": null,
   "id": "c87aba90",
   "metadata": {},
   "outputs": [],
   "source": []
  },
  {
   "cell_type": "code",
   "execution_count": null,
   "id": "db614944",
   "metadata": {},
   "outputs": [],
   "source": []
  },
  {
   "cell_type": "code",
   "execution_count": null,
   "id": "1a383297",
   "metadata": {},
   "outputs": [],
   "source": []
  }
 ],
 "metadata": {
  "kernelspec": {
   "display_name": "Python 3 (ipykernel)",
   "language": "python",
   "name": "python3"
  },
  "language_info": {
   "codemirror_mode": {
    "name": "ipython",
    "version": 3
   },
   "file_extension": ".py",
   "mimetype": "text/x-python",
   "name": "python",
   "nbconvert_exporter": "python",
   "pygments_lexer": "ipython3",
   "version": "3.8.10"
  }
 },
 "nbformat": 4,
 "nbformat_minor": 5
}
